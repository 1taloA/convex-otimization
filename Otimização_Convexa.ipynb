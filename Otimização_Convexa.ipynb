{
  "cells": [
    {
      "cell_type": "code",
      "execution_count": 1,
      "metadata": {
        "id": "bBN8fU_uFzrt"
      },
      "outputs": [],
      "source": [
        "import cvxpy as cp\n",
        "import numpy as np"
      ]
    },
    {
      "cell_type": "code",
      "execution_count": 2,
      "metadata": {
        "colab": {
          "base_uri": "https://localhost:8080/"
        },
        "id": "QIanw6pFJTK0",
        "outputId": "915fabfe-186e-4d29-eec5-a6706d92209e"
      },
      "outputs": [
        {
          "output_type": "stream",
          "name": "stdout",
          "text": [
            "\n",
            "The optimal value is 0.5999999999116253\n",
            "A solution x is\n",
            "[0.4 0.2]\n",
            "A dual solution is\n",
            "[4.00000000e-01 2.00000000e-01 1.18990901e-10 3.70279516e-10]\n"
          ]
        }
      ],
      "source": [
        "A=np.array([\n",
        "    [2,1],\n",
        "    [1,3],\n",
        "    [1,0],\n",
        "    [0,1]])\n",
        "b=np.array([1,1,0,0])\n",
        "c=np.array([1,1])\n",
        "n=2\n",
        "\n",
        "# Define and solve the CVXPY problem.\n",
        "x = cp.Variable(n)\n",
        "prob = cp.Problem(cp.Minimize(c.T@x),\n",
        "                 [A @ x >= b])\n",
        "prob.solve()\n",
        "\n",
        "# Print result.\n",
        "print(\"\\nThe optimal value is\", prob.value)\n",
        "print(\"A solution x is\")\n",
        "print(x.value)\n",
        "print(\"A dual solution is\")\n",
        "print(prob.constraints[0].dual_value)"
      ]
    },
    {
      "cell_type": "code",
      "execution_count": 3,
      "metadata": {
        "id": "_uWHwc_5z8OC",
        "colab": {
          "base_uri": "https://localhost:8080/"
        },
        "outputId": "99179714-89df-4482-fa0c-f16f3acbb20e"
      },
      "outputs": [
        {
          "output_type": "stream",
          "name": "stdout",
          "text": [
            "\n",
            "The optimal value is -inf\n",
            "A solution x is\n",
            "None\n",
            "A dual solution is\n",
            "None\n"
          ]
        }
      ],
      "source": [
        "A=np.array([\n",
        "    [2,1],\n",
        "    [1,3],\n",
        "    [1,0],\n",
        "    [0,1]])\n",
        "b=np.array([1,1,0,0])\n",
        "c=np.array([-1,-1])\n",
        "n=2\n",
        "\n",
        "# Define and solve the CVXPY problem.\n",
        "x = cp.Variable(n)\n",
        "prob = cp.Problem(cp.Minimize(c.T@x),\n",
        "                 [A @ x >= b])\n",
        "prob.solve()\n",
        "\n",
        "# Print result.\n",
        "print(\"\\nThe optimal value is\", prob.value)\n",
        "print(\"A solution x is\")\n",
        "print(x.value)\n",
        "print(\"A dual solution is\")\n",
        "print(prob.constraints[0].dual_value)"
      ]
    },
    {
      "cell_type": "code",
      "source": [
        "A=np.array([\n",
        "    [2,1],\n",
        "    [1,3],\n",
        "    [1,0],\n",
        "    [0,1]])\n",
        "b=np.array([1,1,0,0])\n",
        "c=np.array([1,0])\n",
        "n=2\n",
        "\n",
        "# Define and solve the CVXPY problem.\n",
        "x = cp.Variable(n)\n",
        "prob = cp.Problem(cp.Minimize(c.T@x),\n",
        "                 [A @ x >= b])\n",
        "prob.solve()\n",
        "\n",
        "# Print result.\n",
        "print(\"\\nThe optimal value is\", prob.value)\n",
        "print(\"A solution x is\")\n",
        "print(x.value)\n",
        "print(\"A dual solution is\")\n",
        "print(prob.constraints[0].dual_value)"
      ],
      "metadata": {
        "colab": {
          "base_uri": "https://localhost:8080/"
        },
        "id": "KA3fnpGR-hBD",
        "outputId": "d60aa45a-cd93-4962-aaaf-72c8c3b516bc"
      },
      "execution_count": 4,
      "outputs": [
        {
          "output_type": "stream",
          "name": "stdout",
          "text": [
            "\n",
            "The optimal value is -2.2491441767693299e-10\n",
            "A solution x is\n",
            "[-2.24914418e-10  1.55371590e+00]\n",
            "A dual solution is\n",
            "[4.91778821e-10 3.10900523e-10 1.00000000e+00 1.56903303e-10]\n"
          ]
        }
      ]
    },
    {
      "cell_type": "code",
      "execution_count": null,
      "metadata": {
        "colab": {
          "base_uri": "https://localhost:8080/"
        },
        "id": "1YdKsNu9NGzx",
        "outputId": "b7a95158-6f9f-4be7-ad9b-719d11e429de"
      },
      "outputs": [
        {
          "name": "stdout",
          "output_type": "stream",
          "text": [
            "-1.0000051008089093\n",
            "[[ 5.00000003e-01  1.45746861e-16 -9.17043065e-17 -5.00005164e-01]\n",
            " [ 1.45746861e-16 -2.59222844e-15  2.61360502e-06 -1.45746861e-16]\n",
            " [-9.17043065e-17  2.61360502e-06 -2.59222844e-15  9.17043065e-17]\n",
            " [-5.00005164e-01 -1.45746861e-16  9.17043065e-17  5.00000003e-01]]\n"
          ]
        }
      ],
      "source": [
        "A=np.array([\n",
        "    [0,0,0,1],\n",
        "    [0,0,1,0],\n",
        "    [0,1,0,0],\n",
        "    [1,0,0,0]\n",
        "])\n",
        "B=np.diag([1,-1,-1,1])\n",
        "\n",
        "X=cp.Variable((4,4),symmetric=True)\n",
        "\n",
        "problem=cp.Problem(cp.Minimize(cp.trace(A@X)),[X>>0,cp.trace(B@X)==1,cp.trace(X)==1])\n",
        "problem.solve()\n",
        "print(problem.value)\n",
        "print(X.value)"
      ]
    },
    {
      "cell_type": "code",
      "execution_count": null,
      "metadata": {
        "id": "jdNdF3StoltN"
      },
      "outputs": [],
      "source": []
    }
  ],
  "metadata": {
    "colab": {
      "provenance": []
    },
    "kernelspec": {
      "display_name": "Python 3",
      "name": "python3"
    },
    "language_info": {
      "name": "python"
    }
  },
  "nbformat": 4,
  "nbformat_minor": 0
}